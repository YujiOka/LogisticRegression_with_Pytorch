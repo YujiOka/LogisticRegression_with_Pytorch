{
  "nbformat": 4,
  "nbformat_minor": 0,
  "metadata": {
    "colab": {
      "name": "73.ipynb",
      "provenance": [],
      "collapsed_sections": [],
      "include_colab_link": true
    },
    "kernelspec": {
      "name": "python3",
      "display_name": "Python 3"
    },
    "accelerator": "GPU"
  },
  "cells": [
    {
      "cell_type": "markdown",
      "metadata": {
        "id": "view-in-github",
        "colab_type": "text"
      },
      "source": [
        "<a href=\"https://colab.research.google.com/github/YujiOka/LogisticRegression_with_Pytorch/blob/master/73.ipynb\" target=\"_parent\"><img src=\"https://colab.research.google.com/assets/colab-badge.svg\" alt=\"Open In Colab\"/></a>"
      ]
    },
    {
      "cell_type": "code",
      "metadata": {
        "id": "1siDP8Cwp1jE",
        "colab_type": "code",
        "outputId": "65dbb824-255d-441e-d999-b186fb79fbfd",
        "colab": {
          "base_uri": "https://localhost:8080/",
          "height": 122
        }
      },
      "source": [
        "from google.colab import drive\n",
        "drive.mount('/content/drive')"
      ],
      "execution_count": 1,
      "outputs": [
        {
          "output_type": "stream",
          "text": [
            "Go to this URL in a browser: https://accounts.google.com/o/oauth2/auth?client_id=947318989803-6bn6qk8qdgf4n4g3pfee6491hc0brc4i.apps.googleusercontent.com&redirect_uri=urn%3Aietf%3Awg%3Aoauth%3A2.0%3Aoob&scope=email%20https%3A%2F%2Fwww.googleapis.com%2Fauth%2Fdocs.test%20https%3A%2F%2Fwww.googleapis.com%2Fauth%2Fdrive%20https%3A%2F%2Fwww.googleapis.com%2Fauth%2Fdrive.photos.readonly%20https%3A%2F%2Fwww.googleapis.com%2Fauth%2Fpeopleapi.readonly&response_type=code\n",
            "\n",
            "Enter your authorization code:\n",
            "··········\n",
            "Mounted at /content/drive\n"
          ],
          "name": "stdout"
        }
      ]
    },
    {
      "cell_type": "code",
      "metadata": {
        "id": "3krMlnho1GZW",
        "colab_type": "code",
        "colab": {}
      },
      "source": [
        "import snowballstemmer\n",
        "import torch\n",
        "\n",
        "def load_file(filename):\n",
        "  with open(filename, mode=\"r\", encoding=\"cp1252\") as f:\n",
        "    lines = f.read().split(\"\\n\")\n",
        "  return lines"
      ],
      "execution_count": 0,
      "outputs": []
    },
    {
      "cell_type": "code",
      "metadata": {
        "id": "M8wCrjbhHZfM",
        "colab_type": "code",
        "colab": {
          "base_uri": "https://localhost:8080/",
          "height": 34
        },
        "outputId": "313a3672-7a0f-4ff5-c5ec-fc4c7ee1d921"
      },
      "source": [
        "features = load_file(\"/content/drive/My Drive/feature.txt\")\n",
        "print(features[:3])"
      ],
      "execution_count": 15,
      "outputs": [
        {
          "output_type": "stream",
          "text": [
            "['passion', 'arous', 'discord']\n"
          ],
          "name": "stdout"
        }
      ]
    },
    {
      "cell_type": "code",
      "metadata": {
        "id": "3M0X4n9E1Yn9",
        "colab_type": "code",
        "colab": {}
      },
      "source": [
        "class Separation(object):\n",
        "  def __init__(self, feature_path):\n",
        "    # 素性辞書の読み込み\n",
        "    self.features = load_file(feature_path)\n",
        "    self.stemmer = snowballstemmer.stemmer(\"english\")\n",
        "    self.stop_words = (\n",
        "    \"a,about,above,across,after,again,against,all,allmost,alone,along,already,also,although,always,am,among,amount,an,and,another,any,are,around,\"\n",
        "    \"as,at,back,be,because,been,but,before,behind,being,between,beyond,bill,by,can,could,cry,detail,do,does,down,due,during,each,eight,either,eleven,else,empty,\"\n",
        "    \"etc,ever,every,except,few,fifteen,fifty,find,fire,first,five,for,forty,four,from,front,full,further,get,give,go,had,has,have,he,her,herself,here,\"\n",
        "    \"himself,his,how,however,hundred,if,in,inc,indeed,into,is,it,it's,its,itself,keep,last,latter,least,less,ltd,many,may,me,meanwhile,might,mill,mine,more,\"\n",
        "    \"moreover,most,much,must,my,myself,name,neither,never,nevertheress,next,nine,no,nobody,none,noone,nor,not,nothing,now,of,off,often,on,once,one,only,\"\n",
        "    \"or,other,others,otherwise,our,ours,ourselves,out,over,own,part,per,perhaps,please,rather,re,same,seem,seemed,seeming,seems,serious,several,she,should\"\n",
        "    \"show,side,since,sincere,six,sixty,so,some,somehow,someone,something,sometime,sometimes,somewhere,still,such,system,take,ten,than,that,the,their,them,\"\n",
        "    \"themselves,then,there,thereby,therefore,these,they,thick,thin,third,this,those,though,three,through,throughout,thus,to,together,too,top,toward,towaeds,\"\n",
        "    \"twelve,twenty,two,under,until,up,upon,us,very,via,was,we,well,were,what,whatever,when,whenever,where,wherever,whether,which,while,who,whoever,who,whoever,\"\n",
        "    \"whole,whom,whose,why,will,with,within,would,yet,you,your,yours,yourself,yourselves,the,\"\n",
        "    ).lower().split(\",\")\n",
        "\n",
        "  def __len__(self):\n",
        "    return len(self.features)\n",
        "  \n",
        "  def stopword(self, str):\n",
        "    return str.lower() in self.stop_words\n",
        "  \n",
        "  def make_bow_vector(self, sentence):\n",
        "    vec = torch.zeros(len(self.features))\n",
        "    sentence = sentence.split(\" \")\n",
        "    for word in sentence:\n",
        "      # 前後の空白文字除去\n",
        "      word = word.strip()\n",
        "      # ストップワード除去\n",
        "      if self.stopword(word):\n",
        "        continue\n",
        "      # ステミング\n",
        "      word = self.stemmer.stemWord(word)\n",
        "      if word in self.features:\n",
        "        vec[self.features.index(word)] += 1\n",
        "    return vec\n",
        "  \n",
        "  def __call__(self, sample):\n",
        "    if sample[:2] == \"+1\":\n",
        "      label = torch.Tensor([0, 1])\n",
        "    else:\n",
        "      label = torch.Tensor([1, 0])\n",
        "    \n",
        "    return self.make_bow_vector(sample[3:]), label"
      ],
      "execution_count": 0,
      "outputs": []
    },
    {
      "cell_type": "code",
      "metadata": {
        "id": "ghOaUIKsy5cT",
        "colab_type": "code",
        "colab": {}
      },
      "source": [
        "# word2vecの作成\n",
        "class MyDataset(torch.utils.data.Dataset):\n",
        "  def __init__(self, sentiment_path, transform=None):\n",
        "    self.transform = transform\n",
        "    # データセットの元文\n",
        "    self.lines = load_file(sentiment_path)\n",
        "\n",
        "  def __len__(self):\n",
        "    return len(self.lines)\n",
        "    \n",
        "  def __getitem__(self, index):\n",
        "    data, label = self.transform(self.lines[index])\n",
        "    return data, label"
      ],
      "execution_count": 0,
      "outputs": []
    },
    {
      "cell_type": "code",
      "metadata": {
        "id": "YHfxjeW47CbG",
        "colab_type": "code",
        "colab": {}
      },
      "source": [
        "class Logistic(torch.nn.Module):\n",
        "  def __init__(self, vocab_num):\n",
        "    super(Logistic,self).__init__()\n",
        "    self.linear = torch.nn.Linear(vocab_num, 2)\n",
        "    self.sigmoid = torch.nn.Sigmoid()\n",
        "    \n",
        "  def forward(self, x):\n",
        "    x = self.linear(x)\n",
        "    return self.sigmoid(x)"
      ],
      "execution_count": 0,
      "outputs": []
    },
    {
      "cell_type": "code",
      "metadata": {
        "id": "pyaZIoAaSaLN",
        "colab_type": "code",
        "colab": {}
      },
      "source": [
        "with open(\"/content/drive/My Drive/sentiment.txt\", mode=\"r\", encoding=\"cp1252\") as f:\n",
        "  lines = f.read().split(\"\\n\")\n",
        "with open(\"/content/drive/My Drive/train.txt\", mode=\"w\", encoding=\"cp1252\") as f:\n",
        "  f.write(\"\\n\".join(lines[:9000]))\n",
        "with open(\"/content/drive/My Drive/test.txt\", mode=\"w\", encoding=\"cp1252\") as f:\n",
        "  f.write(\"\\n\".join(lines[9000:]))"
      ],
      "execution_count": 0,
      "outputs": []
    },
    {
      "cell_type": "code",
      "metadata": {
        "id": "EcwZAHaMt2_1",
        "colab_type": "code",
        "outputId": "69cb3ae1-f121-4278-cdac-188cb1caa976",
        "colab": {
          "base_uri": "https://localhost:8080/",
          "height": 1000
        }
      },
      "source": [
        "transform = Separation(\"/content/drive/My Drive/feature.txt\")\n",
        "dataset = MyDataset(\"/content/drive/My Drive/train.txt\",transform=transform)\n",
        "dataloader = torch.utils.data.DataLoader(dataset, batch_size=16, shuffle=True)\n",
        "net = Logistic(len(transform)).to(\"cuda\")\n",
        "\n",
        "loss_fn = torch.nn.BCELoss()\n",
        " \n",
        "optimizer = torch.optim.SGD(net.parameters(), lr=0.1)\n",
        " \n",
        "losses = []\n",
        " \n",
        "for epoch in range(50):\n",
        "  all_loss = 0\n",
        "  for batch in dataloader:\n",
        "    optimizer.zero_grad()\n",
        "    y_pred = net(batch[0].to(\"cuda\"))\n",
        "\n",
        "    loss = loss_fn(y_pred, batch[1].to(\"cuda\"))\n",
        "    all_loss += loss\n",
        "    loss.backward()\n",
        "\n",
        "    optimizer.step()\n",
        "    \n",
        "\n",
        "  print(\"epoch: %d , loss: %f\" % (epoch+1, all_loss))\n",
        "  losses.append(all_loss.item())\n",
        "\n",
        "  if(epoch != 0):\n",
        "      if(abs(losses[epoch-1] - losses[epoch]) < 0.00001):\n",
        "          break\n",
        "\n",
        "%matplotlib inline\n",
        "from matplotlib import pyplot as plt\n",
        "plt.plot(losses)\n",
        "plt.savefig('losses.png')\n",
        "plt.show()"
      ],
      "execution_count": 41,
      "outputs": [
        {
          "output_type": "stream",
          "text": [
            "epoch: 1 , loss: 381.209747\n",
            "epoch: 2 , loss: 363.938873\n",
            "epoch: 3 , loss: 351.313019\n",
            "epoch: 4 , loss: 340.888519\n",
            "epoch: 5 , loss: 332.045685\n",
            "epoch: 6 , loss: 324.518921\n",
            "epoch: 7 , loss: 317.884735\n",
            "epoch: 8 , loss: 312.097015\n",
            "epoch: 9 , loss: 306.917511\n",
            "epoch: 10 , loss: 302.016571\n",
            "epoch: 11 , loss: 297.739227\n",
            "epoch: 12 , loss: 293.609497\n",
            "epoch: 13 , loss: 290.108643\n",
            "epoch: 14 , loss: 286.505707\n",
            "epoch: 15 , loss: 283.192993\n",
            "epoch: 16 , loss: 280.071198\n",
            "epoch: 17 , loss: 277.277313\n",
            "epoch: 18 , loss: 274.688080\n",
            "epoch: 19 , loss: 271.965668\n",
            "epoch: 20 , loss: 269.533569\n",
            "epoch: 21 , loss: 267.188629\n",
            "epoch: 22 , loss: 264.998901\n",
            "epoch: 23 , loss: 262.779907\n",
            "epoch: 24 , loss: 260.811340\n",
            "epoch: 25 , loss: 258.775574\n",
            "epoch: 26 , loss: 256.847748\n",
            "epoch: 27 , loss: 255.130173\n",
            "epoch: 28 , loss: 253.357910\n",
            "epoch: 29 , loss: 251.617020\n",
            "epoch: 30 , loss: 249.991287\n",
            "epoch: 31 , loss: 248.475128\n",
            "epoch: 32 , loss: 246.947327\n",
            "epoch: 33 , loss: 245.510239\n",
            "epoch: 34 , loss: 244.012253\n",
            "epoch: 35 , loss: 242.603638\n",
            "epoch: 36 , loss: 241.171707\n",
            "epoch: 37 , loss: 239.851562\n",
            "epoch: 38 , loss: 238.604141\n",
            "epoch: 39 , loss: 237.311783\n",
            "epoch: 40 , loss: 236.077148\n",
            "epoch: 41 , loss: 234.982559\n",
            "epoch: 42 , loss: 233.709656\n",
            "epoch: 43 , loss: 232.557724\n",
            "epoch: 44 , loss: 231.335541\n",
            "epoch: 45 , loss: 230.416306\n",
            "epoch: 46 , loss: 229.239349\n",
            "epoch: 47 , loss: 228.231705\n",
            "epoch: 48 , loss: 227.172180\n",
            "epoch: 49 , loss: 226.341644\n",
            "epoch: 50 , loss: 225.347885\n"
          ],
          "name": "stdout"
        },
        {
          "output_type": "display_data",
          "data": {
            "image/png": "[encoded data removed]",
            "text/plain": [
              "<Figure size 432x288 with 1 Axes>"
            ]
          },
          "metadata": {
            "tags": []
          }
        }
      ]
    },
    {
      "cell_type": "code",
      "metadata": {
        "id": "9KyIlsi5VM7Y",
        "colab_type": "code",
        "colab": {
          "base_uri": "https://localhost:8080/",
          "height": 51
        },
        "outputId": "fe2a5728-8c13-444d-a2ba-e2e837d6248d"
      },
      "source": [
        "from sklearn.metrics import confusion_matrix, accuracy_score, precision_score, recall_score, f1_score\n",
        "\n",
        "dataset = MyDataset(\"/content/drive/My Drive/test.txt\",transform=transform)\n",
        "dataloader = torch.utils.data.DataLoader(dataset, batch_size=len(dataset), shuffle=True)\n",
        "net = net.to(\"cpu\")\n",
        "\n",
        "for batch in dataloader:\n",
        "  with torch.no_grad():\n",
        "    y_pred = net(batch[0])\n",
        "    y_pred = torch.argmax(y_pred, dim=1)\n",
        "    y = batch[1]\n",
        "    y = torch.argmax(y, dim=1)\n",
        "    \n",
        "y_pred = y_pred.numpy()\n",
        "y = y.numpy()\n",
        "\n",
        "print('accuracy = ', accuracy_score(y_true=y, y_pred=y_pred))\n",
        "print('f1 score = ', f1_score(y_true=y, y_pred=y_pred))    "
      ],
      "execution_count": 45,
      "outputs": [
        {
          "output_type": "stream",
          "text": [
            "accuracy =  0.745640408899579\n",
            "f1 score =  0.7483640690065438\n"
          ],
          "name": "stdout"
        }
      ]
    },
    {
      "cell_type": "code",
      "metadata": {
        "id": "aOrwPfOCCI_l",
        "colab_type": "code",
        "colab": {}
      },
      "source": [
        "torch.cuda.is_available()"
      ],
      "execution_count": 0,
      "outputs": []
    },
    {
      "cell_type": "code",
      "metadata": {
        "id": "vnBIsJGP_0Hj",
        "colab_type": "code",
        "colab": {
          "base_uri": "https://localhost:8080/",
          "height": 156
        },
        "outputId": "613ca9a8-13c4-4a34-fe39-7615f56200fe"
      },
      "source": [
        "from sklearn.model_selection import train_test_split\n",
        "from sklearn.linear_model import LogisticRegression\n",
        "\n",
        "dataloader = torch.utils.data.DataLoader(dataset, batch_size=len(dataset), shuffle=False)\n",
        "\n",
        "for batch in dataloader:\n",
        "  text = batch[0].numpy()\n",
        "  label = batch[1].numpy()\n",
        "\n",
        "label = [l.tolist().index(1) for l in label]\n",
        "\n",
        "X_train = text[:9000]\n",
        "X_test = text[9000:]\n",
        "Y_train = label[:9000]\n",
        "Y_test = label[9000:]\n",
        "lr = LogisticRegression()\n",
        "lr.fit(X_train, Y_train)"
      ],
      "execution_count": 35,
      "outputs": [
        {
          "output_type": "stream",
          "text": [
            "/usr/local/lib/python3.6/dist-packages/sklearn/linear_model/logistic.py:432: FutureWarning: Default solver will be changed to 'lbfgs' in 0.22. Specify a solver to silence this warning.\n",
            "  FutureWarning)\n"
          ],
          "name": "stderr"
        },
        {
          "output_type": "execute_result",
          "data": {
            "text/plain": [
              "LogisticRegression(C=1.0, class_weight=None, dual=False, fit_intercept=True,\n",
              "                   intercept_scaling=1, l1_ratio=None, max_iter=100,\n",
              "                   multi_class='warn', n_jobs=None, penalty='l2',\n",
              "                   random_state=None, solver='warn', tol=0.0001, verbose=0,\n",
              "                   warm_start=False)"
            ]
          },
          "metadata": {
            "tags": []
          },
          "execution_count": 35
        }
      ]
    },
    {
      "cell_type": "code",
      "metadata": {
        "id": "5IX472YeRnJd",
        "colab_type": "code",
        "colab": {}
      },
      "source": [
        ""
      ],
      "execution_count": 0,
      "outputs": []
    },
    {
      "cell_type": "code",
      "metadata": {
        "id": "qO6BCit0LrUH",
        "colab_type": "code",
        "colab": {}
      },
      "source": [
        "Y_pred = lr.predict(X_test)"
      ],
      "execution_count": 0,
      "outputs": []
    },
    {
      "cell_type": "code",
      "metadata": {
        "id": "VjELToqgLy0Y",
        "colab_type": "code",
        "colab": {
          "base_uri": "https://localhost:8080/",
          "height": 51
        },
        "outputId": "1571ff4c-d6a3-4ebc-c308-e4dd1a3f83f4"
      },
      "source": [
        "from sklearn.metrics import confusion_matrix, accuracy_score, precision_score, recall_score, f1_score\n",
        "\n",
        "print('accuracy = ', accuracy_score(y_true=Y_test, y_pred=Y_pred))\n",
        "print('f1 score = ', f1_score(y_true=Y_test, y_pred=Y_pred))"
      ],
      "execution_count": 38,
      "outputs": [
        {
          "output_type": "stream",
          "text": [
            "accuracy =  0.7570655441972339\n",
            "f1 score =  0.7563329312424608\n"
          ],
          "name": "stdout"
        }
      ]
    }
  ]
}