{
  "nbformat": 4,
  "nbformat_minor": 0,
  "metadata": {
    "colab": {
      "name": "73.ipynb",
      "provenance": [],
      "collapsed_sections": [],
      "include_colab_link": true
    },
    "kernelspec": {
      "name": "python3",
      "display_name": "Python 3"
    },
    "accelerator": "GPU"
  },
  "cells": [
    {
      "cell_type": "markdown",
      "metadata": {
        "id": "view-in-github",
        "colab_type": "text"
      },
      "source": [
        "<a href=\"https://colab.research.google.com/github/YujiOka/LogisticRegression_with_Pytorch/blob/master/73.ipynb\" target=\"_parent\"><img src=\"https://colab.research.google.com/assets/colab-badge.svg\" alt=\"Open In Colab\"/></a>"
      ]
    },
    {
      "cell_type": "code",
      "metadata": {
        "id": "1siDP8Cwp1jE",
        "colab_type": "code",
        "outputId": "793686ae-e8ff-49aa-bd44-b837a08f4973",
        "colab": {
          "base_uri": "https://localhost:8080/",
          "height": 122
        }
      },
      "source": [
        "from google.colab import drive\n",
        "drive.mount('/content/drive')"
      ],
      "execution_count": 1,
      "outputs": [
        {
          "output_type": "stream",
          "text": [
            "Go to this URL in a browser: https://accounts.google.com/o/oauth2/auth?client_id=947318989803-6bn6qk8qdgf4n4g3pfee6491hc0brc4i.apps.googleusercontent.com&redirect_uri=urn%3Aietf%3Awg%3Aoauth%3A2.0%3Aoob&scope=email%20https%3A%2F%2Fwww.googleapis.com%2Fauth%2Fdocs.test%20https%3A%2F%2Fwww.googleapis.com%2Fauth%2Fdrive%20https%3A%2F%2Fwww.googleapis.com%2Fauth%2Fdrive.photos.readonly%20https%3A%2F%2Fwww.googleapis.com%2Fauth%2Fpeopleapi.readonly&response_type=code\n",
            "\n",
            "Enter your authorization code:\n",
            "··········\n",
            "Mounted at /content/drive\n"
          ],
          "name": "stdout"
        }
      ]
    },
    {
      "cell_type": "code",
      "metadata": {
        "id": "3krMlnho1GZW",
        "colab_type": "code",
        "colab": {}
      },
      "source": [
        "import snowballstemmer\n",
        "import torch\n",
        "\n",
        "def load_file(filename):\n",
        "  with open(filename, mode=\"r\", encoding=\"cp1252\") as f:\n",
        "    lines = f.readlines()\n",
        "  return lines"
      ],
      "execution_count": 0,
      "outputs": []
    },
    {
      "cell_type": "code",
      "metadata": {
        "id": "3M0X4n9E1Yn9",
        "colab_type": "code",
        "colab": {}
      },
      "source": [
        "class Separation(object):\n",
        "  def __init__(self):\n",
        "    # 素性辞書の読み込み\n",
        "    self.features = load_file(\"/content/drive/My Drive/feature.txt\")\n",
        "    self.stemmer = snowballstemmer.stemmer(\"english\")\n",
        "    self.stop_words = (\n",
        "    \"a,about,above,across,after,again,against,all,allmost,alone,along,already,also,although,always,am,among,amount,an,and,another,any,are,around,\"\n",
        "    \"as,at,back,be,because,been,but,before,behind,being,between,beyond,bill,by,can,could,cry,detail,do,does,down,due,during,each,eight,either,eleven,else,empty,\"\n",
        "    \"etc,ever,every,except,few,fifteen,fifty,find,fire,first,five,for,forty,four,from,front,full,further,get,give,go,had,has,have,he,her,herself,here,\"\n",
        "    \"himself,his,how,however,hundred,if,in,inc,indeed,into,is,it,it's,its,itself,keep,last,latter,least,less,ltd,many,may,me,meanwhile,might,mill,mine,more,\"\n",
        "    \"moreover,most,much,must,my,myself,name,neither,never,nevertheress,next,nine,no,nobody,none,noone,nor,not,nothing,now,of,off,often,on,once,one,only,\"\n",
        "    \"or,other,others,otherwise,our,ours,ourselves,out,over,own,part,per,perhaps,please,rather,re,same,seem,seemed,seeming,seems,serious,several,she,should\"\n",
        "    \"show,side,since,sincere,six,sixty,so,some,somehow,someone,something,sometime,sometimes,somewhere,still,such,system,take,ten,than,that,the,their,them,\"\n",
        "    \"themselves,then,there,thereby,therefore,these,they,thick,thin,third,this,those,though,three,through,throughout,thus,to,together,too,top,toward,towaeds,\"\n",
        "    \"twelve,twenty,two,under,until,up,upon,us,very,via,was,we,well,were,what,whatever,when,whenever,where,wherever,whether,which,while,who,whoever,who,whoever,\"\n",
        "    \"whole,whom,whose,why,will,with,within,would,yet,you,your,yours,yourself,yourselves,the,\"\n",
        "    ).lower().split(\",\")\n",
        "\n",
        "  def __len__(self):\n",
        "    return len(self.features)\n",
        "  \n",
        "  def stopword(self, str):\n",
        "    return str.lower() in self.stop_words\n",
        "  \n",
        "  def make_bow_vector(self, sentence):\n",
        "    vec = torch.zeros(len(self.features))\n",
        "    sentence = sentence.split(\" \")\n",
        "    for word in sentence:\n",
        "      # ストップワード除去\n",
        "      if self.stopword(word):\n",
        "        continue\n",
        "      # ステミング\n",
        "      word = self.stemmer.stemWord(word)\n",
        "      if word in self.features:\n",
        "        vec[self.features.index(word)] += 1\n",
        "    return vec\n",
        "  \n",
        "  def __call__(self, sample):\n",
        "    if sample[:2] == \"+1\":\n",
        "      label = torch.Tensor([0, 1])\n",
        "    else:\n",
        "      label = torch.Tensor([1, 0])\n",
        "    \n",
        "    return self.make_bow_vector(sample[3:]), label"
      ],
      "execution_count": 0,
      "outputs": []
    },
    {
      "cell_type": "code",
      "metadata": {
        "id": "ghOaUIKsy5cT",
        "colab_type": "code",
        "colab": {}
      },
      "source": [
        "# word2vecの作成\n",
        "class MyDataset(torch.utils.data.Dataset):\n",
        "  def __init__(self, transform=None):\n",
        "    self.transform = transform\n",
        "    # データセットの元文\n",
        "    self.lines = load_file(\"/content/drive/My Drive/sentiment.txt\")\n",
        "\n",
        "  def __len__(self):\n",
        "    return len(self.lines)\n",
        "    \n",
        "  def __getitem__(self, index):\n",
        "    data, label = self.transform(self.lines[index])\n",
        "    return data, label"
      ],
      "execution_count": 0,
      "outputs": []
    },
    {
      "cell_type": "code",
      "metadata": {
        "id": "YHfxjeW47CbG",
        "colab_type": "code",
        "colab": {}
      },
      "source": [
        "class Logistic(torch.nn.Module):\n",
        "  def __init__(self, vocab_num, batch_size):\n",
        "    super(Logistic,self).__init__()\n",
        "    self.linear = torch.nn.Linear(vocab_num, 2)\n",
        "    self.sigmoid = torch.nn.Sigmoid()\n",
        "    \n",
        "  def forward(self, x):\n",
        "    x = self.linear(x)\n",
        "    return self.sigmoid(x)"
      ],
      "execution_count": 0,
      "outputs": []
    },
    {
      "cell_type": "code",
      "metadata": {
        "id": "EcwZAHaMt2_1",
        "colab_type": "code",
        "outputId": "168e0772-b529-4b5d-ab02-4143ce363567",
        "colab": {
          "base_uri": "https://localhost:8080/",
          "height": 439
        }
      },
      "source": [
        "transform = Separation()\n",
        "dataset = MyDataset(transform=transform)\n",
        "dataloader = torch.utils.data.DataLoader(dataset, batch_size=32, shuffle=True)\n",
        "net = Logistic(len(transform), 32).to(\"cuda\")\n",
        "\n",
        "loss_fn = torch.nn.BCEWithLogitsLoss()\n",
        " \n",
        "optimizer = torch.optim.SGD(net.parameters(), lr=0.01)\n",
        " \n",
        "losses = []\n",
        " \n",
        "for epoch in range(10):\n",
        "  all_loss = 0\n",
        "  for batch in dataloader:\n",
        "    optimizer.zero_grad()\n",
        "    y_pred = net(batch[0].to(\"cuda\"))\n",
        "\n",
        "    loss = loss_fn(y_pred, batch[1].to(\"cuda\"))\n",
        "    all_loss += loss\n",
        "    loss.backward()\n",
        "\n",
        "    optimizer.step()\n",
        "    \n",
        "\n",
        "  print(\"epoch: %d , loss: %f\" % (epoch+1, all_loss))\n",
        "  losses.append(all_loss.item())\n",
        "\n",
        "  if(epoch != 0):\n",
        "      if(abs(losses[epoch-1] - losses[epoch]) < 0.00001):\n",
        "          break\n",
        "\n",
        "%matplotlib inline\n",
        "from matplotlib import pyplot as plt\n",
        "plt.plot(losses)\n",
        "plt.savefig('losses.png')\n",
        "plt.show()"
      ],
      "execution_count": 8,
      "outputs": [
        {
          "output_type": "stream",
          "text": [
            "epoch: 1 , loss: 241.699539\n",
            "epoch: 2 , loss: 241.196503\n",
            "epoch: 3 , loss: 240.719269\n",
            "epoch: 4 , loss: 240.267319\n",
            "epoch: 5 , loss: 239.840210\n",
            "epoch: 6 , loss: 239.436157\n",
            "epoch: 7 , loss: 239.057510\n",
            "epoch: 8 , loss: 238.699295\n",
            "epoch: 9 , loss: 238.363007\n",
            "epoch: 10 , loss: 238.046844\n"
          ],
          "name": "stdout"
        },
        {
          "output_type": "display_data",
          "data": {
            "image/png": "[encoded data removed]",
            "text/plain": [
              "<Figure size 432x288 with 1 Axes>"
            ]
          },
          "metadata": {
            "tags": []
          }
        }
      ]
    },
    {
      "cell_type": "code",
      "metadata": {
        "id": "aOrwPfOCCI_l",
        "colab_type": "code",
        "colab": {
          "base_uri": "https://localhost:8080/",
          "height": 34
        },
        "outputId": "a663b08b-ebd0-40dc-d41f-e2f6093c7673"
      },
      "source": [
        "torch.cuda.is_available()"
      ],
      "execution_count": 7,
      "outputs": [
        {
          "output_type": "execute_result",
          "data": {
            "text/plain": [
              "True"
            ]
          },
          "metadata": {
            "tags": []
          },
          "execution_count": 7
        }
      ]
    },
    {
      "cell_type": "code",
      "metadata": {
        "id": "Bp-ZgFZiHmBz",
        "colab_type": "code",
        "colab": {}
      },
      "source": [
        ""
      ],
      "execution_count": 0,
      "outputs": []
    }
  ]
}